{
 "cells": [
  {
   "cell_type": "markdown",
   "source": [
    "<h1> Python Basics </h1>"
   ],
   "metadata": {
    "collapsed": false
   }
  },
  {
   "cell_type": "code",
   "execution_count": 183,
   "metadata": {
    "collapsed": true
   },
   "outputs": [],
   "source": [
    "import pandas as pd\n",
    "import numpy as np\n",
    "import seaborn as sns\n",
    "import matplotlib.pyplot as plt"
   ]
  },
  {
   "cell_type": "code",
   "execution_count": 184,
   "outputs": [],
   "source": [
    "data_path = 'Data/hungarian.data'\n",
    "column_names = ['age','sex','cp','trestbps','chol','fbs','restecg','thalach','exang','oldpeak','slope','ca','thal','num']\n",
    "\n",
    "\n",
    "df = pd.read_csv('https://archive.ics.uci.edu/ml/machine-learning-databases/heart-disease/processed.hungarian.data', sep=',', names=column_names, header=None)\n"
   ],
   "metadata": {
    "collapsed": false
   }
  },
  {
   "cell_type": "markdown",
   "source": [
    "<h3> Data Exploration"
   ],
   "metadata": {
    "collapsed": false
   }
  },
  {
   "cell_type": "code",
   "execution_count": 185,
   "outputs": [
    {
     "data": {
      "text/plain": "   age  sex  cp trestbps chol fbs restecg thalach exang  oldpeak slope ca  \\\n0   28    1   2      130  132   0       2     185     0      0.0     ?  ?   \n1   29    1   2      120  243   0       0     160     0      0.0     ?  ?   \n2   29    1   2      140    ?   0       0     170     0      0.0     ?  ?   \n3   30    0   1      170  237   0       1     170     0      0.0     ?  ?   \n4   31    0   2      100  219   0       1     150     0      0.0     ?  ?   \n\n  thal  num  \n0    ?    0  \n1    ?    0  \n2    ?    0  \n3    6    0  \n4    ?    0  ",
      "text/html": "<div>\n<style scoped>\n    .dataframe tbody tr th:only-of-type {\n        vertical-align: middle;\n    }\n\n    .dataframe tbody tr th {\n        vertical-align: top;\n    }\n\n    .dataframe thead th {\n        text-align: right;\n    }\n</style>\n<table border=\"1\" class=\"dataframe\">\n  <thead>\n    <tr style=\"text-align: right;\">\n      <th></th>\n      <th>age</th>\n      <th>sex</th>\n      <th>cp</th>\n      <th>trestbps</th>\n      <th>chol</th>\n      <th>fbs</th>\n      <th>restecg</th>\n      <th>thalach</th>\n      <th>exang</th>\n      <th>oldpeak</th>\n      <th>slope</th>\n      <th>ca</th>\n      <th>thal</th>\n      <th>num</th>\n    </tr>\n  </thead>\n  <tbody>\n    <tr>\n      <th>0</th>\n      <td>28</td>\n      <td>1</td>\n      <td>2</td>\n      <td>130</td>\n      <td>132</td>\n      <td>0</td>\n      <td>2</td>\n      <td>185</td>\n      <td>0</td>\n      <td>0.0</td>\n      <td>?</td>\n      <td>?</td>\n      <td>?</td>\n      <td>0</td>\n    </tr>\n    <tr>\n      <th>1</th>\n      <td>29</td>\n      <td>1</td>\n      <td>2</td>\n      <td>120</td>\n      <td>243</td>\n      <td>0</td>\n      <td>0</td>\n      <td>160</td>\n      <td>0</td>\n      <td>0.0</td>\n      <td>?</td>\n      <td>?</td>\n      <td>?</td>\n      <td>0</td>\n    </tr>\n    <tr>\n      <th>2</th>\n      <td>29</td>\n      <td>1</td>\n      <td>2</td>\n      <td>140</td>\n      <td>?</td>\n      <td>0</td>\n      <td>0</td>\n      <td>170</td>\n      <td>0</td>\n      <td>0.0</td>\n      <td>?</td>\n      <td>?</td>\n      <td>?</td>\n      <td>0</td>\n    </tr>\n    <tr>\n      <th>3</th>\n      <td>30</td>\n      <td>0</td>\n      <td>1</td>\n      <td>170</td>\n      <td>237</td>\n      <td>0</td>\n      <td>1</td>\n      <td>170</td>\n      <td>0</td>\n      <td>0.0</td>\n      <td>?</td>\n      <td>?</td>\n      <td>6</td>\n      <td>0</td>\n    </tr>\n    <tr>\n      <th>4</th>\n      <td>31</td>\n      <td>0</td>\n      <td>2</td>\n      <td>100</td>\n      <td>219</td>\n      <td>0</td>\n      <td>1</td>\n      <td>150</td>\n      <td>0</td>\n      <td>0.0</td>\n      <td>?</td>\n      <td>?</td>\n      <td>?</td>\n      <td>0</td>\n    </tr>\n  </tbody>\n</table>\n</div>"
     },
     "execution_count": 185,
     "metadata": {},
     "output_type": "execute_result"
    }
   ],
   "source": [
    "df.head()"
   ],
   "metadata": {
    "collapsed": false
   }
  },
  {
   "cell_type": "code",
   "execution_count": 186,
   "outputs": [
    {
     "data": {
      "text/plain": "age           int64\nsex           int64\ncp            int64\ntrestbps     object\nchol         object\nfbs          object\nrestecg      object\nthalach      object\nexang        object\noldpeak     float64\nslope        object\nca           object\nthal         object\nnum           int64\ndtype: object"
     },
     "execution_count": 186,
     "metadata": {},
     "output_type": "execute_result"
    }
   ],
   "source": [
    "df.dtypes"
   ],
   "metadata": {
    "collapsed": false
   }
  },
  {
   "cell_type": "code",
   "execution_count": 187,
   "outputs": [
    {
     "data": {
      "text/plain": "(294, 14)"
     },
     "execution_count": 187,
     "metadata": {},
     "output_type": "execute_result"
    }
   ],
   "source": [
    "df.shape"
   ],
   "metadata": {
    "collapsed": false
   }
  },
  {
   "cell_type": "code",
   "execution_count": 188,
   "outputs": [
    {
     "data": {
      "text/plain": "              age         sex          cp     oldpeak         num\ncount  294.000000  294.000000  294.000000  294.000000  294.000000\nmean    47.826531    0.724490    2.982993    0.586054    0.360544\nstd      7.811812    0.447533    0.965117    0.908648    0.480977\nmin     28.000000    0.000000    1.000000    0.000000    0.000000\n25%     42.000000    0.000000    2.000000    0.000000    0.000000\n50%     49.000000    1.000000    3.000000    0.000000    0.000000\n75%     54.000000    1.000000    4.000000    1.000000    1.000000\nmax     66.000000    1.000000    4.000000    5.000000    1.000000",
      "text/html": "<div>\n<style scoped>\n    .dataframe tbody tr th:only-of-type {\n        vertical-align: middle;\n    }\n\n    .dataframe tbody tr th {\n        vertical-align: top;\n    }\n\n    .dataframe thead th {\n        text-align: right;\n    }\n</style>\n<table border=\"1\" class=\"dataframe\">\n  <thead>\n    <tr style=\"text-align: right;\">\n      <th></th>\n      <th>age</th>\n      <th>sex</th>\n      <th>cp</th>\n      <th>oldpeak</th>\n      <th>num</th>\n    </tr>\n  </thead>\n  <tbody>\n    <tr>\n      <th>count</th>\n      <td>294.000000</td>\n      <td>294.000000</td>\n      <td>294.000000</td>\n      <td>294.000000</td>\n      <td>294.000000</td>\n    </tr>\n    <tr>\n      <th>mean</th>\n      <td>47.826531</td>\n      <td>0.724490</td>\n      <td>2.982993</td>\n      <td>0.586054</td>\n      <td>0.360544</td>\n    </tr>\n    <tr>\n      <th>std</th>\n      <td>7.811812</td>\n      <td>0.447533</td>\n      <td>0.965117</td>\n      <td>0.908648</td>\n      <td>0.480977</td>\n    </tr>\n    <tr>\n      <th>min</th>\n      <td>28.000000</td>\n      <td>0.000000</td>\n      <td>1.000000</td>\n      <td>0.000000</td>\n      <td>0.000000</td>\n    </tr>\n    <tr>\n      <th>25%</th>\n      <td>42.000000</td>\n      <td>0.000000</td>\n      <td>2.000000</td>\n      <td>0.000000</td>\n      <td>0.000000</td>\n    </tr>\n    <tr>\n      <th>50%</th>\n      <td>49.000000</td>\n      <td>1.000000</td>\n      <td>3.000000</td>\n      <td>0.000000</td>\n      <td>0.000000</td>\n    </tr>\n    <tr>\n      <th>75%</th>\n      <td>54.000000</td>\n      <td>1.000000</td>\n      <td>4.000000</td>\n      <td>1.000000</td>\n      <td>1.000000</td>\n    </tr>\n    <tr>\n      <th>max</th>\n      <td>66.000000</td>\n      <td>1.000000</td>\n      <td>4.000000</td>\n      <td>5.000000</td>\n      <td>1.000000</td>\n    </tr>\n  </tbody>\n</table>\n</div>"
     },
     "execution_count": 188,
     "metadata": {},
     "output_type": "execute_result"
    }
   ],
   "source": [
    "df.describe()"
   ],
   "metadata": {
    "collapsed": false
   }
  },
  {
   "cell_type": "code",
   "execution_count": 189,
   "outputs": [
    {
     "data": {
      "text/plain": "age           0\nsex           0\ncp            0\ntrestbps      1\nchol         23\nfbs           8\nrestecg       1\nthalach       1\nexang         1\noldpeak       0\nslope       190\nca          291\nthal        266\nnum           0\ndtype: int64"
     },
     "execution_count": 189,
     "metadata": {},
     "output_type": "execute_result"
    }
   ],
   "source": [
    "df.applymap(lambda x: '?' in str(x)).sum()"
   ],
   "metadata": {
    "collapsed": false
   }
  },
  {
   "cell_type": "markdown",
   "source": [
    "<h3>Data Manipulation</h3>"
   ],
   "metadata": {
    "collapsed": false
   }
  },
  {
   "cell_type": "code",
   "execution_count": 190,
   "outputs": [],
   "source": [
    "df['trestbps'] = df['trestbps'].apply(lambda x: np.nan if x == '?' else x)\n",
    "df['chol'] = df['chol'].apply(lambda x: np.nan if x == '?' else x)\n",
    "df['fbs'] = df['fbs'].apply(lambda x: np.nan if x == '?' else x)\n",
    "df['restecg'] = df['restecg'].apply(lambda x: 0 if x == '?' else x)\n",
    "df['thalach'] = df['thalach'].apply(lambda x: np.nan if x == '?' else x)\n",
    "df['exang'] = df['exang'].apply(lambda x: 0 if x == '?' else x)\n",
    "df['slope'] = df['slope'].apply(lambda x: np.nan if x == '?' else x)\n",
    "df['ca'] = df['ca'].apply(lambda x: np.nan if x == '?' else x)\n",
    "df['thal'] = df['thal'].apply(lambda x: np.nan if x == '?' else x)"
   ],
   "metadata": {
    "collapsed": false
   }
  },
  {
   "cell_type": "code",
   "execution_count": 191,
   "outputs": [
    {
     "data": {
      "text/plain": "age         0\nsex         0\ncp          0\ntrestbps    0\nchol        0\nfbs         0\nrestecg     0\nthalach     0\nexang       0\noldpeak     0\nslope       0\nca          0\nthal        0\nnum         0\ndtype: int64"
     },
     "execution_count": 191,
     "metadata": {},
     "output_type": "execute_result"
    }
   ],
   "source": [
    "df.applymap(lambda x: '?' in str(x)).sum()"
   ],
   "metadata": {
    "collapsed": false
   }
  },
  {
   "cell_type": "code",
   "execution_count": 192,
   "outputs": [
    {
     "name": "stdout",
     "output_type": "stream",
     "text": [
      "age          0.000000\n",
      "sex          0.000000\n",
      "cp           0.000000\n",
      "trestbps     0.340136\n",
      "chol         7.823129\n",
      "fbs          2.721088\n",
      "restecg      0.000000\n",
      "thalach      0.340136\n",
      "exang        0.000000\n",
      "oldpeak      0.000000\n",
      "slope       64.625850\n",
      "ca          98.979592\n",
      "thal        90.476190\n",
      "num          0.000000\n",
      "dtype: float64\n"
     ]
    }
   ],
   "source": [
    "missing_data = df.isna().sum() / len(df) * 100\n",
    "print(missing_data)"
   ],
   "metadata": {
    "collapsed": false
   }
  },
  {
   "cell_type": "code",
   "execution_count": 193,
   "outputs": [],
   "source": [
    "to_drop_l = missing_data[missing_data > 60].index.tolist()\n",
    "\n",
    "df = df.drop(to_drop_l, axis=1)"
   ],
   "metadata": {
    "collapsed": false
   }
  },
  {
   "cell_type": "code",
   "execution_count": 194,
   "outputs": [
    {
     "name": "stdout",
     "output_type": "stream",
     "text": [
      "Index(['age', 'sex', 'cp', 'trestbps', 'chol', 'fbs', 'restecg', 'thalach',\n",
      "       'exang', 'oldpeak', 'num'],\n",
      "      dtype='object')\n"
     ]
    }
   ],
   "source": [
    "print(df.columns)"
   ],
   "metadata": {
    "collapsed": false
   }
  },
  {
   "cell_type": "code",
   "execution_count": 195,
   "outputs": [
    {
     "name": "stdout",
     "output_type": "stream",
     "text": [
      "age            int64\n",
      "sex            int64\n",
      "cp             int64\n",
      "trestbps      object\n",
      "chol          object\n",
      "fbs         category\n",
      "restecg     category\n",
      "thalach       object\n",
      "exang       category\n",
      "oldpeak      float64\n",
      "num         category\n",
      "dtype: object\n"
     ]
    }
   ],
   "source": [
    "#df[['trestbps','chol','thalach']] = df[['trestbps','chol','thalach']].astype('Float64')\n",
    "df[['fbs','restecg','exang', 'num']] = df[['fbs','restecg','exang','num']].astype('category')\n",
    "\n",
    "print(df.dtypes)"
   ],
   "metadata": {
    "collapsed": false
   }
  },
  {
   "cell_type": "code",
   "execution_count": 196,
   "outputs": [],
   "source": [
    "sex_map = {0: 'female', 1:'male'}\n",
    "restecg_map = {0: 'normal', 1: 'ST-T wave abnormality', 2: 'Left ventricular hypertrophy'}\n",
    "exang_map = {0: 'no', 1: 'yes'}\n",
    "target_map = {0: 'No Disease', 1: 'Disease'}"
   ],
   "metadata": {
    "collapsed": false
   }
  },
  {
   "cell_type": "code",
   "execution_count": 197,
   "outputs": [],
   "source": [
    "df['sex'] = df['sex'].map(sex_map)\n",
    "df['restecg'] = df['restecg'].map(restecg_map)\n",
    "df['exang'] = df['exang'].map(exang_map)\n",
    "df['num'] = df['num'].map(target_map)"
   ],
   "metadata": {
    "collapsed": false
   }
  },
  {
   "cell_type": "code",
   "execution_count": 198,
   "outputs": [],
   "source": [
    "df = df.rename(columns={\"num\":\"target\"})"
   ],
   "metadata": {
    "collapsed": false
   }
  },
  {
   "cell_type": "code",
   "execution_count": 199,
   "outputs": [
    {
     "name": "stderr",
     "output_type": "stream",
     "text": [
      "C:\\Users\\sypni\\AppData\\Local\\Temp\\ipykernel_11936\\1585397971.py:1: FutureWarning: The default value of numeric_only in DataFrameGroupBy.mean is deprecated. In a future version, numeric_only will default to False. Either specify numeric_only or select only columns which should be valid for the function.\n",
      "  df.groupby('target').mean()\n"
     ]
    },
    {
     "data": {
      "text/plain": "                  age        cp   oldpeak\ntarget                                   \nNo Disease  46.893617  2.617021  0.214362\nDisease     49.481132  3.632075  1.245283",
      "text/html": "<div>\n<style scoped>\n    .dataframe tbody tr th:only-of-type {\n        vertical-align: middle;\n    }\n\n    .dataframe tbody tr th {\n        vertical-align: top;\n    }\n\n    .dataframe thead th {\n        text-align: right;\n    }\n</style>\n<table border=\"1\" class=\"dataframe\">\n  <thead>\n    <tr style=\"text-align: right;\">\n      <th></th>\n      <th>age</th>\n      <th>cp</th>\n      <th>oldpeak</th>\n    </tr>\n    <tr>\n      <th>target</th>\n      <th></th>\n      <th></th>\n      <th></th>\n    </tr>\n  </thead>\n  <tbody>\n    <tr>\n      <th>No Disease</th>\n      <td>46.893617</td>\n      <td>2.617021</td>\n      <td>0.214362</td>\n    </tr>\n    <tr>\n      <th>Disease</th>\n      <td>49.481132</td>\n      <td>3.632075</td>\n      <td>1.245283</td>\n    </tr>\n  </tbody>\n</table>\n</div>"
     },
     "execution_count": 199,
     "metadata": {},
     "output_type": "execute_result"
    }
   ],
   "source": [
    "df.groupby('target').mean()"
   ],
   "metadata": {
    "collapsed": false
   }
  },
  {
   "cell_type": "code",
   "execution_count": 202,
   "outputs": [
    {
     "data": {
      "text/plain": "<Figure size 640x480 with 1 Axes>",
      "image/png": "[encoded data removed]"
     },
     "metadata": {},
     "output_type": "display_data"
    }
   ],
   "source": [
    "sns.barplot(x = 'target', y = 'age', hue = 'sex', data = df)\n",
    "plt.title('Average Age by hear disease')\n",
    "plt.xlabel(\"Heart Disease\")\n",
    "plt.ylabel(\"Age\")\n",
    "plt.show()"
   ],
   "metadata": {
    "collapsed": false
   }
  }
 ],
 "metadata": {
  "kernelspec": {
   "display_name": "Python 3",
   "language": "python",
   "name": "python3"
  },
  "language_info": {
   "codemirror_mode": {
    "name": "ipython",
    "version": 2
   },
   "file_extension": ".py",
   "mimetype": "text/x-python",
   "name": "python",
   "nbconvert_exporter": "python",
   "pygments_lexer": "ipython2",
   "version": "2.7.6"
  }
 },
 "nbformat": 4,
 "nbformat_minor": 0
}
